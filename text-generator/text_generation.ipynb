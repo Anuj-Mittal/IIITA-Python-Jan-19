{
 "cells": [
  {
   "cell_type": "code",
   "execution_count": 1,
   "metadata": {},
   "outputs": [],
   "source": [
    "data_file = \"Datasets/Speeches/independence_english.txt\""
   ]
  },
  {
   "cell_type": "code",
   "execution_count": 2,
   "metadata": {},
   "outputs": [],
   "source": [
    "def load_file(file_name):\n",
    "    f = open(file_name, \"r\")\n",
    "    content = f.read()\n",
    "    f.close()\n",
    "    return content"
   ]
  },
  {
   "cell_type": "code",
   "execution_count": 4,
   "metadata": {},
   "outputs": [],
   "source": [
    "training_data = \"Hello Hello World World\""
   ]
  },
  {
   "cell_type": "code",
   "execution_count": 5,
   "metadata": {},
   "outputs": [],
   "source": [
    "# give k = 3\n",
    "# Input    output freq\n",
    "# oun       t      2\n",
    "# the       i   1\n",
    "# the       y     1\n",
    "# the       _     4"
   ]
  },
  {
   "cell_type": "code",
   "execution_count": 6,
   "metadata": {},
   "outputs": [],
   "source": [
    "d = {\n",
    "    \"the\": {\n",
    "        \"i\": 1,\n",
    "        \"y\": 1,\n",
    "        \" \":4\n",
    "    },\n",
    "    \"oun\": {\n",
    "        \"t\": 2\n",
    "    }\n",
    "}"
   ]
  },
  {
   "cell_type": "code",
   "execution_count": 9,
   "metadata": {},
   "outputs": [],
   "source": [
    "d[\"name\"] = \"jatin\""
   ]
  },
  {
   "cell_type": "code",
   "execution_count": 12,
   "metadata": {},
   "outputs": [
    {
     "data": {
      "text/plain": [
       "False"
      ]
     },
     "execution_count": 12,
     "metadata": {},
     "output_type": "execute_result"
    }
   ],
   "source": [
    "\"jatin\" in d"
   ]
  },
  {
   "cell_type": "code",
   "execution_count": 8,
   "metadata": {},
   "outputs": [
    {
     "data": {
      "text/plain": [
       "1"
      ]
     },
     "execution_count": 8,
     "metadata": {},
     "output_type": "execute_result"
    }
   ],
   "source": [
    "d[\"the\"][\"y\"]"
   ]
  },
  {
   "cell_type": "code",
   "execution_count": 15,
   "metadata": {},
   "outputs": [],
   "source": [
    "# https://colab.research.google.com/"
   ]
  },
  {
   "cell_type": "code",
   "execution_count": 52,
   "metadata": {},
   "outputs": [],
   "source": [
    "def createTable(text, k=3):\n",
    "    text = text.lower()\n",
    "    T = {}\n",
    "    for i in range(len(text) - k):\n",
    "        X = text[i:i+k]\n",
    "        Y = text[i+k]\n",
    "        if X in T:\n",
    "            if Y in T[X]:\n",
    "                T[X][Y] += 1\n",
    "            else:\n",
    "                T[X][Y] = 1\n",
    "        else:\n",
    "            T[X] = {\n",
    "                Y: 1\n",
    "            }\n",
    "    return T\n",
    "        "
   ]
  },
  {
   "cell_type": "code",
   "execution_count": 14,
   "metadata": {},
   "outputs": [
    {
     "data": {
      "text/plain": [
       "{'Hel': {'l': 2},\n",
       " 'ell': {'o': 2},\n",
       " 'llo': {' ': 2},\n",
       " 'lo ': {'H': 1, 'W': 1},\n",
       " 'o H': {'e': 1},\n",
       " ' He': {'l': 1},\n",
       " 'o W': {'o': 1},\n",
       " ' Wo': {'r': 2},\n",
       " 'Wor': {'l': 2},\n",
       " 'orl': {'d': 2},\n",
       " 'rld': {' ': 1},\n",
       " 'ld ': {'W': 1},\n",
       " 'd W': {'o': 1}}"
      ]
     },
     "execution_count": 14,
     "metadata": {},
     "output_type": "execute_result"
    }
   ],
   "source": [
    "createTable(training_data)"
   ]
  },
  {
   "cell_type": "code",
   "execution_count": 16,
   "metadata": {},
   "outputs": [],
   "source": [
    "d = {\n",
    "    \"name\": \"jatin\",\n",
    "    \"last_name\": \"katyal\"\n",
    "}"
   ]
  },
  {
   "cell_type": "code",
   "execution_count": 18,
   "metadata": {},
   "outputs": [
    {
     "data": {
      "text/plain": [
       "dict_values(['jatin', 'katyal'])"
      ]
     },
     "execution_count": 18,
     "metadata": {},
     "output_type": "execute_result"
    }
   ],
   "source": [
    "d.values()"
   ]
  },
  {
   "cell_type": "code",
   "execution_count": 19,
   "metadata": {},
   "outputs": [],
   "source": [
    "def probTable(T):\n",
    "    for key in T:\n",
    "        total = sum(T[key].values())\n",
    "        for ikey in T[key]:\n",
    "            T[key][ikey] = T[key][ikey]/total\n",
    "    return T"
   ]
  },
  {
   "cell_type": "code",
   "execution_count": 22,
   "metadata": {},
   "outputs": [],
   "source": [
    "model = probTable(createTable(training_data))"
   ]
  },
  {
   "cell_type": "code",
   "execution_count": 37,
   "metadata": {},
   "outputs": [],
   "source": [
    "d = {\n",
    "    \"jatin\": 10,\n",
    "    \"prateek\": 99,\n",
    "    \"arnav\": 90\n",
    "}"
   ]
  },
  {
   "cell_type": "code",
   "execution_count": 38,
   "metadata": {},
   "outputs": [],
   "source": [
    "def comp(x):\n",
    "    return x[1]"
   ]
  },
  {
   "cell_type": "code",
   "execution_count": 40,
   "metadata": {},
   "outputs": [
    {
     "data": {
      "text/plain": [
       "[('jatin', 10), ('prateek', 99), ('arnav', 90)]"
      ]
     },
     "execution_count": 40,
     "metadata": {},
     "output_type": "execute_result"
    }
   ],
   "source": [
    "list(d.items())"
   ]
  },
  {
   "cell_type": "code",
   "execution_count": 41,
   "metadata": {},
   "outputs": [
    {
     "data": {
      "text/plain": [
       "('prateek', 99)"
      ]
     },
     "execution_count": 41,
     "metadata": {},
     "output_type": "execute_result"
    }
   ],
   "source": [
    "max(d.items(), key=comp)"
   ]
  },
  {
   "cell_type": "code",
   "execution_count": 95,
   "metadata": {},
   "outputs": [],
   "source": [
    "import numpy as np"
   ]
  },
  {
   "cell_type": "code",
   "execution_count": 100,
   "metadata": {},
   "outputs": [],
   "source": [
    "def sampleNext(ctx, inp):\n",
    "    inp = inp[-3:]\n",
    "    if inp in ctx:\n",
    "#         return max(ctx[inp].items(), key = lambda x: x[1])[0]\n",
    "        probable_chars = list(ctx[inp].keys())\n",
    "        freq = list(ctx[inp].values())\n",
    "        return np.random.choice(probable_chars, p=freq)\n",
    "    else:\n",
    "        return \" \""
   ]
  },
  {
   "cell_type": "code",
   "execution_count": 56,
   "metadata": {},
   "outputs": [],
   "source": [
    "import numpy as np"
   ]
  },
  {
   "cell_type": "code",
   "execution_count": 94,
   "metadata": {},
   "outputs": [
    {
     "data": {
      "text/plain": [
       "'mango'"
      ]
     },
     "execution_count": 94,
     "metadata": {},
     "output_type": "execute_result"
    }
   ],
   "source": [
    "np.random.choice([\"apple\", \"mango\", \"banana\"], p=[.2, .6, .2])"
   ]
  },
  {
   "cell_type": "code",
   "execution_count": 102,
   "metadata": {},
   "outputs": [],
   "source": [
    "def genText(ctx, inp, length = 1000):\n",
    "    text = inp\n",
    "    for _ in range(length):\n",
    "        text += sampleNext(ctx, text[-3:])\n",
    "    return text"
   ]
  },
  {
   "cell_type": "code",
   "execution_count": 104,
   "metadata": {},
   "outputs": [
    {
     "name": "stdout",
     "output_type": "stream",
     "text": [
      "my dears, many report inding a hangana, any countryments brating the even the rajya back\n",
      "\n",
      "my devotect the opprest.\n",
      "\n",
      "todays, many of passage of opprestive eters of the seas and hoistice.\n",
      "\n",
      "in the seventirely dear coundreams we aren to the countryment, new heir right all the the evidence ashok sacrifice are fightersonstival of luck.\n",
      "\n",
      "i bountry.\n",
      "\n",
      "the from to the broughts.\n",
      "\n",
      "\n",
      "my demany remen, our paramen, with a countryment happiness, our coming with severcrossing those report is festival of positive jubilee people spect tricolor flood rajya bapu. many country.\n",
      "\n",
      "todays, flower the countrymen, telanged in the at that the seven the coundependepend countrymen, the common the country. in ful with hard, hangana, am very is not is year, telanging corners of that this indence festice are celebrave severe celebrating for the the justice at the countrymen,\n",
      "\n",
      "my dear came baisake of sakhi is full of dren hanging all this protect the be ashok sacreat this suffered to protect time, for flood ran verener them a\n"
     ]
    }
   ],
   "source": [
    "print(genText(model, \"my dea\"))"
   ]
  },
  {
   "cell_type": "code",
   "execution_count": null,
   "metadata": {},
   "outputs": [],
   "source": []
  },
  {
   "cell_type": "code",
   "execution_count": null,
   "metadata": {},
   "outputs": [],
   "source": []
  },
  {
   "cell_type": "code",
   "execution_count": null,
   "metadata": {},
   "outputs": [],
   "source": []
  },
  {
   "cell_type": "code",
   "execution_count": null,
   "metadata": {},
   "outputs": [],
   "source": []
  }
 ],
 "metadata": {
  "kernelspec": {
   "display_name": "Python 3",
   "language": "python",
   "name": "python3"
  },
  "language_info": {
   "codemirror_mode": {
    "name": "ipython",
    "version": 3
   },
   "file_extension": ".py",
   "mimetype": "text/x-python",
   "name": "python",
   "nbconvert_exporter": "python",
   "pygments_lexer": "ipython3",
   "version": "3.7.0"
  }
 },
 "nbformat": 4,
 "nbformat_minor": 2
}
